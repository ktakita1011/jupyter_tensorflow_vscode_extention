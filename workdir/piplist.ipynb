{
 "cells": [
  {
   "cell_type": "code",
   "execution_count": 1,
   "metadata": {
    "scrolled": false
   },
   "outputs": [
    {
     "output_type": "stream",
     "name": "stdout",
     "text": [
      "Package           Version\n----------------- -------\nastroid           2.4.2\nbackcall          0.2.0\ndecorator         4.4.2\nipykernel         5.4.3\nipython           7.20.0\nipython-genutils  0.2.0\nisort             5.7.0\njedi              0.18.0\njupyter-client    6.1.11\njupyter-core      4.7.1\nlazy-object-proxy 1.4.3\nmccabe            0.6.1\nparso             0.8.1\npexpect           4.8.0\npickleshare       0.7.5\npip               21.0.1\nprompt-toolkit    3.0.14\nptyprocess        0.7.0\nPygments          2.7.4\npylint            2.6.0\npython-dateutil   2.8.1\npyzmq             22.0.2\nsetuptools        53.0.0\nsix               1.15.0\ntoml              0.10.2\ntornado           6.1\ntraitlets         5.0.5\nwcwidth           0.2.5\nwheel             0.36.2\nwrapt             1.12.1\n"
     ]
    }
   ],
   "source": [
    "!pip list"
   ]
  }
 ],
 "metadata": {
  "kernelspec": {
   "display_name": "Python 3",
   "language": "python",
   "name": "python3"
  },
  "language_info": {
   "codemirror_mode": {
    "name": "ipython",
    "version": 3
   },
   "file_extension": ".py",
   "mimetype": "text/x-python",
   "name": "python",
   "nbconvert_exporter": "python",
   "pygments_lexer": "ipython3",
   "version": "3.9.1-final"
  }
 },
 "nbformat": 4,
 "nbformat_minor": 2
}